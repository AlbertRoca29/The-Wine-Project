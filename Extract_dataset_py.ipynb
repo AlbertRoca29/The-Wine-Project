{
  "nbformat": 4,
  "nbformat_minor": 0,
  "metadata": {
    "colab": {
      "provenance": []
    },
    "kernelspec": {
      "name": "python3",
      "display_name": "Python 3"
    },
    "language_info": {
      "name": "python"
    }
  },
  "cells": [
    {
      "cell_type": "code",
      "source": [
        "import json, os"
      ],
      "metadata": {
        "id": "_hJ4R3fM9Q6u"
      },
      "execution_count": 1,
      "outputs": []
    },
    {
      "cell_type": "markdown",
      "source": [
        "### Upload datasets from private API (remove)"
      ],
      "metadata": {
        "id": "9JqEQB1x9SCh"
      }
    },
    {
      "cell_type": "code",
      "source": [
        "# AIXÒ FER-HO PRIVAT , de moment esta aixi per estalviar uploadear els datasets cada cop\n",
        "\n",
        "data = {\n",
        "    \"username\":\"albertroca29\",\n",
        "    \"key\":\"abb86cea6e8b29e5a3002793d9210162\"\n",
        "}\n",
        "with open(\"kaggle.json\", \"w\") as f:\n",
        "    json.dump(data, f)\n",
        "\n",
        "os.environ['KAGGLE_CONFIG_DIR'] = '/content'\n",
        "!kaggle datasets download -d albertroca29/arlsgqrms/UH_2023_TRAIN.txt"
      ],
      "metadata": {
        "colab": {
          "base_uri": "https://localhost:8080/"
        },
        "id": "QkvHuiWd89zw",
        "outputId": "400d8ada-a5c3-40c4-c0a3-9bd7f9312cdd"
      },
      "execution_count": 2,
      "outputs": [
        {
          "output_type": "stream",
          "name": "stdout",
          "text": [
            "Warning: Your Kaggle API key is readable by other users on this system! To fix this, you can run 'chmod 600 /content/kaggle.json'\n",
            "Downloading arlsgqrms.zip to /content\n",
            " 47% 19.0M/40.8M [00:00<00:00, 196MB/s]\n",
            "100% 40.8M/40.8M [00:00<00:00, 232MB/s]\n"
          ]
        }
      ]
    },
    {
      "cell_type": "markdown",
      "source": [
        "### Unzip the zip file to have the datasets "
      ],
      "metadata": {
        "id": "pTW3Ebo-9pRn"
      }
    },
    {
      "cell_type": "code",
      "source": [
        "!unzip \\*.zip  && rm *.zip"
      ],
      "metadata": {
        "id": "2SMJW5Ig44vi",
        "colab": {
          "base_uri": "https://localhost:8080/"
        },
        "outputId": "03011e54-ee92-427c-aef1-895447445084"
      },
      "execution_count": null,
      "outputs": [
        {
          "output_type": "stream",
          "name": "stdout",
          "text": [
            "Archive:  arlsgqrms.zip\n",
            "replace DATOS_ETO.TXT? [y]es, [n]o, [A]ll, [N]one, [r]ename: "
          ]
        }
      ]
    },
    {
      "cell_type": "markdown",
      "source": [
        "Pandas dataset"
      ],
      "metadata": {
        "id": "L2euz9jF94Z_"
      }
    },
    {
      "cell_type": "code",
      "source": [
        "import pandas as pd\n",
        "\n",
        "def load_dataset(path): \n",
        "    dataset = pd.read_csv(path, header=0, delimiter='|')\n",
        "    return dataset\n",
        "\n",
        "train = load_dataset('UH_2023_TRAIN.txt')\n",
        "meteo = load_dataset('DATOS_METEO.TXT')\n",
        "eto = load_dataset('DATOS_ETO.TXT')\n",
        "\n",
        "df = {'train':train,'meteo':meteo,'eto':eto}"
      ],
      "metadata": {
        "id": "PmkRvzVV95jl"
      },
      "execution_count": null,
      "outputs": []
    },
    {
      "cell_type": "markdown",
      "source": [
        "Dimensions"
      ],
      "metadata": {
        "id": "rYyp_GNIAdSU"
      }
    },
    {
      "cell_type": "code",
      "source": [
        "_=[print(nom,'\\t',dataset.shape) for nom,dataset in df.items()]"
      ],
      "metadata": {
        "id": "ZUd2AJfnCBeI"
      },
      "execution_count": null,
      "outputs": []
    }
  ]
}