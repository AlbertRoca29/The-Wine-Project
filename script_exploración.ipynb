{
  "cells": [
    {
      "cell_type": "code",
      "execution_count": 76,
      "metadata": {
        "id": "_hJ4R3fM9Q6u"
      },
      "outputs": [],
      "source": [
        "import json, os"
      ]
    },
    {
      "cell_type": "markdown",
      "metadata": {
        "id": "9JqEQB1x9SCh"
      },
      "source": [
        "### Upload datasets from private API (remove)"
      ]
    },
    {
      "cell_type": "code",
      "execution_count": 77,
      "metadata": {
        "colab": {
          "base_uri": "https://localhost:8080/"
        },
        "id": "QkvHuiWd89zw",
        "outputId": "3b64992d-2bd1-446f-9457-2275b7483583"
      },
      "outputs": [
        {
          "output_type": "stream",
          "name": "stdout",
          "text": [
            "Warning: Your Kaggle API key is readable by other users on this system! To fix this, you can run 'chmod 600 /content/kaggle.json'\n",
            "Downloading arlsgqrms.zip to /content\n",
            " 59% 24.0M/40.8M [00:00<00:00, 128MB/s] \n",
            "100% 40.8M/40.8M [00:00<00:00, 149MB/s]\n"
          ]
        }
      ],
      "source": [
        "# AIXÒ FER-HO PRIVAT , de moment esta aixi per estalviar uploadear els datasets cada cop\n",
        "\n",
        "data = {\n",
        "    \"username\":\"albertroca29\",\n",
        "    \"key\":\"abb86cea6e8b29e5a3002793d9210162\"\n",
        "}\n",
        "with open(\"kaggle.json\", \"w\") as f:\n",
        "    json.dump(data, f)\n",
        "\n",
        "os.environ['KAGGLE_CONFIG_DIR'] = '/content'\n",
        "!kaggle datasets download -d albertroca29/arlsgqrms/UH_2023_TRAIN.txt"
      ]
    },
    {
      "cell_type": "markdown",
      "metadata": {
        "id": "pTW3Ebo-9pRn"
      },
      "source": [
        "### Unzip the zip file to have the datasets "
      ]
    },
    {
      "cell_type": "code",
      "execution_count": 78,
      "metadata": {
        "colab": {
          "base_uri": "https://localhost:8080/"
        },
        "id": "2SMJW5Ig44vi",
        "outputId": "e420715d-128f-4aad-cc3a-48f941776bce"
      },
      "outputs": [
        {
          "output_type": "stream",
          "name": "stdout",
          "text": [
            "Archive:  arlsgqrms.zip\n",
            "replace DATOS_ETO.TXT? [y]es, [n]o, [A]ll, [N]one, [r]ename: n\n",
            "replace DATOS_METEO.TXT? [y]es, [n]o, [A]ll, [N]one, [r]ename: n\n",
            "replace UH_2023_TRAIN.txt? [y]es, [n]o, [A]ll, [N]one, [r]ename: n\n"
          ]
        }
      ],
      "source": [
        "!unzip \\*.zip  && rm *.zip"
      ]
    },
    {
      "cell_type": "markdown",
      "metadata": {
        "id": "L2euz9jF94Z_"
      },
      "source": [
        "Pandas dataset"
      ]
    },
    {
      "cell_type": "code",
      "execution_count": 79,
      "metadata": {
        "id": "PmkRvzVV95jl"
      },
      "outputs": [],
      "source": [
        "import pandas as pd\n",
        "\n",
        "def load_dataset(path): \n",
        "    dataset = pd.read_csv(path, header=0, delimiter='|')\n",
        "    return dataset\n",
        "\n",
        "train = load_dataset('UH_2023_TRAIN.txt')\n",
        "meteo = load_dataset('DATOS_METEO.TXT')\n",
        "eto = load_dataset('DATOS_ETO.TXT')\n",
        "\n",
        "df = {'train':train,'meteo':meteo,'eto':eto}"
      ]
    },
    {
      "cell_type": "markdown",
      "metadata": {
        "id": "rYyp_GNIAdSU"
      },
      "source": [
        "Dimensions"
      ]
    },
    {
      "cell_type": "code",
      "execution_count": 80,
      "metadata": {
        "id": "ZUd2AJfnCBeI",
        "colab": {
          "base_uri": "https://localhost:8080/"
        },
        "outputId": "c63ba7b3-ce62-4439-d638-a6c052f7a371"
      },
      "outputs": [
        {
          "output_type": "stream",
          "name": "stdout",
          "text": [
            "train \t (9601, 11)\n",
            "meteo \t (1223660, 33)\n",
            "eto \t (51180, 275)\n"
          ]
        }
      ],
      "source": [
        "_=[print(nom,'\\t',dataset.shape) for nom,dataset in df.items()]"
      ]
    },
    {
      "cell_type": "code",
      "source": [
        "_=[print(nom,'\\t',dataset.columns) for nom,dataset in df.items()]"
      ],
      "metadata": {
        "colab": {
          "base_uri": "https://localhost:8080/"
        },
        "id": "MFiYTDb_OGK1",
        "outputId": "086498f1-d719-4f86-d596-05175ab8253e"
      },
      "execution_count": 81,
      "outputs": [
        {
          "output_type": "stream",
          "name": "stdout",
          "text": [
            "train \t Index(['CAMPAÑA', 'ID_FINCA', 'ID_ZONA', 'ID_ESTACION', 'ALTITUD', 'VARIEDAD',\n",
            "       'MODO', 'TIPO', 'COLOR', 'SUPERFICIE', 'PRODUCCION'],\n",
            "      dtype='object')\n",
            "meteo \t Index(['validTimeUtc', 'precip1Hour', 'precip6Hour', 'precip24Hour',\n",
            "       'precip2Day', 'precip3Day', 'precip7Day', 'precipMtd', 'precipYtd',\n",
            "       'pressureChange', 'pressureMeanSeaLevel', 'relativeHumidity',\n",
            "       'snow1Hour', 'snow6Hour', 'snow24Hour', 'snow2Day', 'snow3Day',\n",
            "       'snow7Day', 'snowMtd', 'snowSeason', 'snowYtd', 'temperature',\n",
            "       'temperatureChange24Hour', 'temperatureMax24Hour',\n",
            "       'temperatureMin24Hour', 'temperatureDewPoint', 'temperatureFeelsLike',\n",
            "       'uvIndex', 'visibility', 'windDirection', 'windGust', 'windSpeed',\n",
            "       'ID_ESTACION'],\n",
            "      dtype='object')\n",
            "eto \t Index(['date', 'DewpointLocalAfternoonAvg', 'DewpointLocalAfternoonMax',\n",
            "       'DewpointLocalAfternoonMin', 'DewpointLocalDayAvg',\n",
            "       'DewpointLocalDayMax', 'DewpointLocalDayMin', 'DewpointLocalDaytimeAvg',\n",
            "       'DewpointLocalDaytimeMax', 'DewpointLocalDaytimeMin',\n",
            "       ...\n",
            "       'WindSpeedLocalMorningAvg', 'WindSpeedLocalMorningMax',\n",
            "       'WindSpeedLocalMorningMin', 'WindSpeedLocalNighttimeAvg',\n",
            "       'WindSpeedLocalNighttimeMax', 'WindSpeedLocalNighttimeMin',\n",
            "       'WindSpeedLocalOvernightAvg', 'WindSpeedLocalOvernightMax',\n",
            "       'WindSpeedLocalOvernightMin', 'ID_ESTACION'],\n",
            "      dtype='object', length=275)\n"
          ]
        }
      ]
    },
    {
      "cell_type": "markdown",
      "source": [
        "NaNs en train"
      ],
      "metadata": {
        "id": "7nHvvBe3bd90"
      }
    },
    {
      "cell_type": "code",
      "source": [
        "train.isnull().sum()"
      ],
      "metadata": {
        "colab": {
          "base_uri": "https://localhost:8080/"
        },
        "id": "tyavBjeFcJsg",
        "outputId": "cce504d0-0470-4e89-ad0d-ce00debf5b7b"
      },
      "execution_count": 82,
      "outputs": [
        {
          "output_type": "execute_result",
          "data": {
            "text/plain": [
              "CAMPAÑA           0\n",
              "ID_FINCA          0\n",
              "ID_ZONA           0\n",
              "ID_ESTACION       0\n",
              "ALTITUD          54\n",
              "VARIEDAD          0\n",
              "MODO              0\n",
              "TIPO              0\n",
              "COLOR             0\n",
              "SUPERFICIE        0\n",
              "PRODUCCION     1075\n",
              "dtype: int64"
            ]
          },
          "metadata": {},
          "execution_count": 82
        }
      ]
    },
    {
      "cell_type": "markdown",
      "source": [
        "### Relacio entre dades no meteo"
      ],
      "metadata": {
        "id": "kOROEF3BZtzC"
      }
    },
    {
      "cell_type": "code",
      "source": [
        "train.isnull().sum()\n",
        "t2 = train[~train.ALTITUD.isnull()]\n",
        "t2 = t2[~t2.PRODUCCION.isnull()]\n",
        "print(t2.isnull().sum())"
      ],
      "metadata": {
        "colab": {
          "base_uri": "https://localhost:8080/"
        },
        "id": "OHCzJc--bRFE",
        "outputId": "3d20aeaf-0a2d-42bf-b68d-dee6d6382604"
      },
      "execution_count": 83,
      "outputs": [
        {
          "output_type": "stream",
          "name": "stdout",
          "text": [
            "CAMPAÑA        0\n",
            "ID_FINCA       0\n",
            "ID_ZONA        0\n",
            "ID_ESTACION    0\n",
            "ALTITUD        0\n",
            "VARIEDAD       0\n",
            "MODO           0\n",
            "TIPO           0\n",
            "COLOR          0\n",
            "SUPERFICIE     0\n",
            "PRODUCCION     0\n",
            "dtype: int64\n"
          ]
        }
      ]
    },
    {
      "cell_type": "code",
      "source": [
        "train.dtypes"
      ],
      "metadata": {
        "colab": {
          "base_uri": "https://localhost:8080/"
        },
        "id": "AfKHe_90d0l6",
        "outputId": "aae4b8f3-0d1b-401a-db96-6dac5883e726"
      },
      "execution_count": 84,
      "outputs": [
        {
          "output_type": "execute_result",
          "data": {
            "text/plain": [
              "CAMPAÑA          int64\n",
              "ID_FINCA         int64\n",
              "ID_ZONA          int64\n",
              "ID_ESTACION      int64\n",
              "ALTITUD         object\n",
              "VARIEDAD         int64\n",
              "MODO             int64\n",
              "TIPO             int64\n",
              "COLOR            int64\n",
              "SUPERFICIE     float64\n",
              "PRODUCCION     float64\n",
              "dtype: object"
            ]
          },
          "metadata": {},
          "execution_count": 84
        }
      ]
    },
    {
      "cell_type": "code",
      "source": [
        "for i in range(t2.shape[0]):\n",
        "    valor = t2['ALTITUD'].values[i]\n",
        "    if(len(valor)>3):\n",
        "        t2['ALTITUD'].values[i] = int((int(valor[:3])+int(valor[-3:]))/2)\n",
        "    else:\n",
        "        t2['ALTITUD'].values[i] = int(valor)\n",
        "\n",
        "t2['ALTITUD'] = pd.to_numeric(t2['ALTITUD'])"
      ],
      "metadata": {
        "colab": {
          "base_uri": "https://localhost:8080/"
        },
        "id": "4X4jEc1Rc0v7",
        "outputId": "b04ffa37-2d8b-4512-ff5b-d5e70154f76c"
      },
      "execution_count": 85,
      "outputs": [
        {
          "output_type": "stream",
          "name": "stdout",
          "text": [
            "655\n"
          ]
        }
      ]
    },
    {
      "cell_type": "code",
      "source": [
        "import seaborn as sns\n",
        "\n",
        "sns.heatmap(t2.corr())"
      ],
      "metadata": {
        "colab": {
          "base_uri": "https://localhost:8080/",
          "height": 344
        },
        "id": "-4dnC2XfZyvK",
        "outputId": "de6da029-8c2b-4f96-f932-392586e659cd"
      },
      "execution_count": 86,
      "outputs": [
        {
          "output_type": "execute_result",
          "data": {
            "text/plain": [
              "<AxesSubplot:>"
            ]
          },
          "metadata": {},
          "execution_count": 86
        },
        {
          "output_type": "display_data",
          "data": {
            "text/plain": [
              "<Figure size 432x288 with 2 Axes>"
            ],
            "image/png": "[encoded data removed]"
          },
          "metadata": {
            "needs_background": "light"
          }
        }
      ]
    },
    {
      "cell_type": "code",
      "source": [
        "eto.head()"
      ],
      "metadata": {
        "colab": {
          "base_uri": "https://localhost:8080/",
          "height": 299
        },
        "id": "HhGKkWN_hLNk",
        "outputId": "e778271c-50b3-4414-bf4e-af26911f23af"
      },
      "execution_count": 87,
      "outputs": [
        {
          "output_type": "execute_result",
          "data": {
            "text/plain": [
              "       date  DewpointLocalAfternoonAvg  DewpointLocalAfternoonMax  \\\n",
              "0  20150629                      285.9                      285.9   \n",
              "1  20150630                      283.0                      283.6   \n",
              "2  20150701                      286.1                      286.5   \n",
              "3  20150702                      288.9                      289.4   \n",
              "4  20150703                      289.1                      290.4   \n",
              "\n",
              "   DewpointLocalAfternoonMin  DewpointLocalDayAvg  DewpointLocalDayMax  \\\n",
              "0                      285.9                286.0                287.0   \n",
              "1                      282.5                284.3                286.5   \n",
              "2                      285.5                285.8                288.0   \n",
              "3                      287.9                288.3                291.8   \n",
              "4                      288.5                290.5                293.0   \n",
              "\n",
              "   DewpointLocalDayMin  DewpointLocalDaytimeAvg  DewpointLocalDaytimeMax  \\\n",
              "0                285.4                    285.9                    285.9   \n",
              "1                282.5                    283.2                    283.9   \n",
              "2                283.8                    285.4                    286.5   \n",
              "3                286.1                    287.7                    289.4   \n",
              "4                287.8                    290.6                    293.0   \n",
              "\n",
              "   DewpointLocalDaytimeMin  ...  WindSpeedLocalMorningAvg  \\\n",
              "0                    285.9  ...                       NaN   \n",
              "1                    282.5  ...                       2.2   \n",
              "2                    283.8  ...                       2.7   \n",
              "3                    286.1  ...                       1.7   \n",
              "4                    288.5  ...                       3.5   \n",
              "\n",
              "   WindSpeedLocalMorningMax  WindSpeedLocalMorningMin  \\\n",
              "0                       NaN                       NaN   \n",
              "1                       3.8                       1.4   \n",
              "2                       4.3                       1.2   \n",
              "3                       2.3                       1.2   \n",
              "4                       5.0                       2.3   \n",
              "\n",
              "   WindSpeedLocalNighttimeAvg  WindSpeedLocalNighttimeMax  \\\n",
              "0                         2.6                         5.0   \n",
              "1                         2.7                         5.2   \n",
              "2                         3.0                         5.7   \n",
              "3                         3.6                         5.4   \n",
              "4                         3.1                         6.0   \n",
              "\n",
              "   WindSpeedLocalNighttimeMin  WindSpeedLocalOvernightAvg  \\\n",
              "0                         1.1                         1.7   \n",
              "1                         1.4                         1.5   \n",
              "2                         1.4                         1.9   \n",
              "3                         2.4                         2.7   \n",
              "4                         1.5                         1.9   \n",
              "\n",
              "   WindSpeedLocalOvernightMax  WindSpeedLocalOvernightMin  ID_ESTACION  \n",
              "0                         2.1                         1.1           13  \n",
              "1                         1.9                         1.4           13  \n",
              "2                         2.8                         1.4           13  \n",
              "3                         3.4                         2.4           13  \n",
              "4                         2.2                         1.5           13  \n",
              "\n",
              "[5 rows x 275 columns]"
            ],
            "text/html": [
              "\n",
              "  <div id=\"df-b5c6c4cd-7c96-45a1-880b-ae58a50c5aad\">\n",
              "    <div class=\"colab-df-container\">\n",
              "      <div>\n",
              "<style scoped>\n",
              "    .dataframe tbody tr th:only-of-type {\n",
              "        vertical-align: middle;\n",
              "    }\n",
              "\n",
              "    .dataframe tbody tr th {\n",
              "        vertical-align: top;\n",
              "    }\n",
              "\n",
              "    .dataframe thead th {\n",
              "        text-align: right;\n",
              "    }\n",
              "</style>\n",
              "<table border=\"1\" class=\"dataframe\">\n",
              "  <thead>\n",
              "    <tr style=\"text-align: right;\">\n",
              "      <th></th>\n",
              "      <th>date</th>\n",
              "      <th>DewpointLocalAfternoonAvg</th>\n",
              "      <th>DewpointLocalAfternoonMax</th>\n",
              "      <th>DewpointLocalAfternoonMin</th>\n",
              "      <th>DewpointLocalDayAvg</th>\n",
              "      <th>DewpointLocalDayMax</th>\n",
              "      <th>DewpointLocalDayMin</th>\n",
              "      <th>DewpointLocalDaytimeAvg</th>\n",
              "      <th>DewpointLocalDaytimeMax</th>\n",
              "      <th>DewpointLocalDaytimeMin</th>\n",
              "      <th>...</th>\n",
              "      <th>WindSpeedLocalMorningAvg</th>\n",
              "      <th>WindSpeedLocalMorningMax</th>\n",
              "      <th>WindSpeedLocalMorningMin</th>\n",
              "      <th>WindSpeedLocalNighttimeAvg</th>\n",
              "      <th>WindSpeedLocalNighttimeMax</th>\n",
              "      <th>WindSpeedLocalNighttimeMin</th>\n",
              "      <th>WindSpeedLocalOvernightAvg</th>\n",
              "      <th>WindSpeedLocalOvernightMax</th>\n",
              "      <th>WindSpeedLocalOvernightMin</th>\n",
              "      <th>ID_ESTACION</th>\n",
              "    </tr>\n",
              "  </thead>\n",
              "  <tbody>\n",
              "    <tr>\n",
              "      <th>0</th>\n",
              "      <td>20150629</td>\n",
              "      <td>285.9</td>\n",
              "      <td>285.9</td>\n",
              "      <td>285.9</td>\n",
              "      <td>286.0</td>\n",
              "      <td>287.0</td>\n",
              "      <td>285.4</td>\n",
              "      <td>285.9</td>\n",
              "      <td>285.9</td>\n",
              "      <td>285.9</td>\n",
              "      <td>...</td>\n",
              "      <td>NaN</td>\n",
              "      <td>NaN</td>\n",
              "      <td>NaN</td>\n",
              "      <td>2.6</td>\n",
              "      <td>5.0</td>\n",
              "      <td>1.1</td>\n",
              "      <td>1.7</td>\n",
              "      <td>2.1</td>\n",
              "      <td>1.1</td>\n",
              "      <td>13</td>\n",
              "    </tr>\n",
              "    <tr>\n",
              "      <th>1</th>\n",
              "      <td>20150630</td>\n",
              "      <td>283.0</td>\n",
              "      <td>283.6</td>\n",
              "      <td>282.5</td>\n",
              "      <td>284.3</td>\n",
              "      <td>286.5</td>\n",
              "      <td>282.5</td>\n",
              "      <td>283.2</td>\n",
              "      <td>283.9</td>\n",
              "      <td>282.5</td>\n",
              "      <td>...</td>\n",
              "      <td>2.2</td>\n",
              "      <td>3.8</td>\n",
              "      <td>1.4</td>\n",
              "      <td>2.7</td>\n",
              "      <td>5.2</td>\n",
              "      <td>1.4</td>\n",
              "      <td>1.5</td>\n",
              "      <td>1.9</td>\n",
              "      <td>1.4</td>\n",
              "      <td>13</td>\n",
              "    </tr>\n",
              "    <tr>\n",
              "      <th>2</th>\n",
              "      <td>20150701</td>\n",
              "      <td>286.1</td>\n",
              "      <td>286.5</td>\n",
              "      <td>285.5</td>\n",
              "      <td>285.8</td>\n",
              "      <td>288.0</td>\n",
              "      <td>283.8</td>\n",
              "      <td>285.4</td>\n",
              "      <td>286.5</td>\n",
              "      <td>283.8</td>\n",
              "      <td>...</td>\n",
              "      <td>2.7</td>\n",
              "      <td>4.3</td>\n",
              "      <td>1.2</td>\n",
              "      <td>3.0</td>\n",
              "      <td>5.7</td>\n",
              "      <td>1.4</td>\n",
              "      <td>1.9</td>\n",
              "      <td>2.8</td>\n",
              "      <td>1.4</td>\n",
              "      <td>13</td>\n",
              "    </tr>\n",
              "    <tr>\n",
              "      <th>3</th>\n",
              "      <td>20150702</td>\n",
              "      <td>288.9</td>\n",
              "      <td>289.4</td>\n",
              "      <td>287.9</td>\n",
              "      <td>288.3</td>\n",
              "      <td>291.8</td>\n",
              "      <td>286.1</td>\n",
              "      <td>287.7</td>\n",
              "      <td>289.4</td>\n",
              "      <td>286.1</td>\n",
              "      <td>...</td>\n",
              "      <td>1.7</td>\n",
              "      <td>2.3</td>\n",
              "      <td>1.2</td>\n",
              "      <td>3.6</td>\n",
              "      <td>5.4</td>\n",
              "      <td>2.4</td>\n",
              "      <td>2.7</td>\n",
              "      <td>3.4</td>\n",
              "      <td>2.4</td>\n",
              "      <td>13</td>\n",
              "    </tr>\n",
              "    <tr>\n",
              "      <th>4</th>\n",
              "      <td>20150703</td>\n",
              "      <td>289.1</td>\n",
              "      <td>290.4</td>\n",
              "      <td>288.5</td>\n",
              "      <td>290.5</td>\n",
              "      <td>293.0</td>\n",
              "      <td>287.8</td>\n",
              "      <td>290.6</td>\n",
              "      <td>293.0</td>\n",
              "      <td>288.5</td>\n",
              "      <td>...</td>\n",
              "      <td>3.5</td>\n",
              "      <td>5.0</td>\n",
              "      <td>2.3</td>\n",
              "      <td>3.1</td>\n",
              "      <td>6.0</td>\n",
              "      <td>1.5</td>\n",
              "      <td>1.9</td>\n",
              "      <td>2.2</td>\n",
              "      <td>1.5</td>\n",
              "      <td>13</td>\n",
              "    </tr>\n",
              "  </tbody>\n",
              "</table>\n",
              "<p>5 rows × 275 columns</p>\n",
              "</div>\n",
              "      <button class=\"colab-df-convert\" onclick=\"convertToInteractive('df-b5c6c4cd-7c96-45a1-880b-ae58a50c5aad')\"\n",
              "              title=\"Convert this dataframe to an interactive table.\"\n",
              "              style=\"display:none;\">\n",
              "        \n",
              "  <svg xmlns=\"http://www.w3.org/2000/svg\" height=\"24px\"viewBox=\"0 0 24 24\"\n",
              "       width=\"24px\">\n",
              "    <path d=\"M0 0h24v24H0V0z\" fill=\"none\"/>\n",
              "    <path d=\"M18.56 5.44l.94 2.06.94-2.06 2.06-.94-2.06-.94-.94-2.06-.94 2.06-2.06.94zm-11 1L8.5 8.5l.94-2.06 2.06-.94-2.06-.94L8.5 2.5l-.94 2.06-2.06.94zm10 10l.94 2.06.94-2.06 2.06-.94-2.06-.94-.94-2.06-.94 2.06-2.06.94z\"/><path d=\"M17.41 7.96l-1.37-1.37c-.4-.4-.92-.59-1.43-.59-.52 0-1.04.2-1.43.59L10.3 9.45l-7.72 7.72c-.78.78-.78 2.05 0 2.83L4 21.41c.39.39.9.59 1.41.59.51 0 1.02-.2 1.41-.59l7.78-7.78 2.81-2.81c.8-.78.8-2.07 0-2.86zM5.41 20L4 18.59l7.72-7.72 1.47 1.35L5.41 20z\"/>\n",
              "  </svg>\n",
              "      </button>\n",
              "      \n",
              "  <style>\n",
              "    .colab-df-container {\n",
              "      display:flex;\n",
              "      flex-wrap:wrap;\n",
              "      gap: 12px;\n",
              "    }\n",
              "\n",
              "    .colab-df-convert {\n",
              "      background-color: #E8F0FE;\n",
              "      border: none;\n",
              "      border-radius: 50%;\n",
              "      cursor: pointer;\n",
              "      display: none;\n",
              "      fill: #1967D2;\n",
              "      height: 32px;\n",
              "      padding: 0 0 0 0;\n",
              "      width: 32px;\n",
              "    }\n",
              "\n",
              "    .colab-df-convert:hover {\n",
              "      background-color: #E2EBFA;\n",
              "      box-shadow: 0px 1px 2px rgba(60, 64, 67, 0.3), 0px 1px 3px 1px rgba(60, 64, 67, 0.15);\n",
              "      fill: #174EA6;\n",
              "    }\n",
              "\n",
              "    [theme=dark] .colab-df-convert {\n",
              "      background-color: #3B4455;\n",
              "      fill: #D2E3FC;\n",
              "    }\n",
              "\n",
              "    [theme=dark] .colab-df-convert:hover {\n",
              "      background-color: #434B5C;\n",
              "      box-shadow: 0px 1px 3px 1px rgba(0, 0, 0, 0.15);\n",
              "      filter: drop-shadow(0px 1px 2px rgba(0, 0, 0, 0.3));\n",
              "      fill: #FFFFFF;\n",
              "    }\n",
              "  </style>\n",
              "\n",
              "      <script>\n",
              "        const buttonEl =\n",
              "          document.querySelector('#df-b5c6c4cd-7c96-45a1-880b-ae58a50c5aad button.colab-df-convert');\n",
              "        buttonEl.style.display =\n",
              "          google.colab.kernel.accessAllowed ? 'block' : 'none';\n",
              "\n",
              "        async function convertToInteractive(key) {\n",
              "          const element = document.querySelector('#df-b5c6c4cd-7c96-45a1-880b-ae58a50c5aad');\n",
              "          const dataTable =\n",
              "            await google.colab.kernel.invokeFunction('convertToInteractive',\n",
              "                                                     [key], {});\n",
              "          if (!dataTable) return;\n",
              "\n",
              "          const docLinkHtml = 'Like what you see? Visit the ' +\n",
              "            '<a target=\"_blank\" href=https://colab.research.google.com/notebooks/data_table.ipynb>data table notebook</a>'\n",
              "            + ' to learn more about interactive tables.';\n",
              "          element.innerHTML = '';\n",
              "          dataTable['output_type'] = 'display_data';\n",
              "          await google.colab.output.renderOutput(dataTable, element);\n",
              "          const docLink = document.createElement('div');\n",
              "          docLink.innerHTML = docLinkHtml;\n",
              "          element.appendChild(docLink);\n",
              "        }\n",
              "      </script>\n",
              "    </div>\n",
              "  </div>\n",
              "  "
            ]
          },
          "metadata": {},
          "execution_count": 87
        }
      ]
    }
  ],
  "metadata": {
    "colab": {
      "provenance": []
    },
    "kernelspec": {
      "display_name": "Python 3",
      "name": "python3"
    },
    "language_info": {
      "name": "python"
    }
  },
  "nbformat": 4,
  "nbformat_minor": 0
}